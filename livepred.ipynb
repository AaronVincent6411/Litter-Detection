{
 "cells": [
  {
   "cell_type": "code",
   "execution_count": 2,
   "metadata": {},
   "outputs": [
    {
     "name": "stderr",
     "output_type": "stream",
     "text": [
      "2023-05-20 06:13:42.477161: I tensorflow/tsl/cuda/cudart_stub.cc:28] Could not find cuda drivers on your machine, GPU will not be used.\n",
      "2023-05-20 06:13:44.039421: I tensorflow/tsl/cuda/cudart_stub.cc:28] Could not find cuda drivers on your machine, GPU will not be used.\n",
      "2023-05-20 06:13:44.041230: I tensorflow/core/platform/cpu_feature_guard.cc:182] This TensorFlow binary is optimized to use available CPU instructions in performance-critical operations.\n",
      "To enable the following instructions: AVX2 FMA, in other operations, rebuild TensorFlow with the appropriate compiler flags.\n",
      "2023-05-20 06:13:53.483339: W tensorflow/compiler/tf2tensorrt/utils/py_utils.cc:38] TF-TRT Warning: Could not find TensorRT\n"
     ]
    }
   ],
   "source": [
    "import tensorflow as tf\n",
    "import cv2\n",
    "import torch\n",
    "import numpy as np\n",
    "from tensorflow.keras.preprocessing.image import load_img\n",
    "from tensorflow.keras.preprocessing.image import load_img, img_to_array\n",
    "from tensorflow.keras.applications.vgg16 import preprocess_input"
   ]
  },
  {
   "cell_type": "code",
   "execution_count": 3,
   "metadata": {},
   "outputs": [
    {
     "name": "stderr",
     "output_type": "stream",
     "text": [
      "2023-05-20 06:14:22.938936: W tensorflow/tsl/framework/cpu_allocator_impl.cc:83] Allocation of 293601280 exceeds 10% of free system memory.\n",
      "2023-05-20 06:14:23.143159: W tensorflow/tsl/framework/cpu_allocator_impl.cc:83] Allocation of 293601280 exceeds 10% of free system memory.\n",
      "2023-05-20 06:14:23.263759: W tensorflow/tsl/framework/cpu_allocator_impl.cc:83] Allocation of 293601280 exceeds 10% of free system memory.\n",
      "2023-05-20 06:14:39.448086: W tensorflow/tsl/framework/cpu_allocator_impl.cc:83] Allocation of 293601280 exceeds 10% of free system memory.\n",
      "2023-05-20 06:14:40.053915: W tensorflow/tsl/framework/cpu_allocator_impl.cc:83] Allocation of 293601280 exceeds 10% of free system memory.\n"
     ]
    }
   ],
   "source": [
    "loaded_model = tf.keras.models.load_model('model1.h5')"
   ]
  },
  {
   "cell_type": "code",
   "execution_count": 10,
   "metadata": {},
   "outputs": [
    {
     "name": "stdout",
     "output_type": "stream",
     "text": [
      "1/1 [==============================] - 0s 490ms/step\n"
     ]
    }
   ],
   "source": [
    "# image = cv2.imread('plastic bottle.jpg')\n",
    "# img = cv2.imread('glass.jpg')\n",
    "# img_array = img_to_array(img)\n",
    "# image = np.expand_dims(img_array, axis=0)\n",
    "# normalized_img = cv2.normalize(image, None, 0, 255, cv2.NORM_MINMAX, cv2.CV_8U)\n",
    "# prediction = loaded_model.predict(normalized_img)"
   ]
  },
  {
   "cell_type": "code",
   "execution_count": 3,
   "metadata": {},
   "outputs": [],
   "source": [
    "labels = ['cardboard', 'glass', 'metal', 'paper', 'cardboard', 'trash']\n",
    "img = cv2.imread('dataset/train/glass/glass1.jpg')\n",
    "resized_img = cv2.resize(img, (512, 384)) \n",
    "normalized_img = resized_img.astype(np.float32) / 255.0 \n",
    "# input_data = np.expand_dims(normalized_img, axis=0)\n",
    "# predictions = loaded_model.predict(input_data)\n",
    "# class_index = np.argmax(predictions)\n",
    "# predicted_label = labels[class_index]"
   ]
  },
  {
   "cell_type": "code",
   "execution_count": 1,
   "metadata": {},
   "outputs": [
    {
     "ename": "NameError",
     "evalue": "name 'cv2' is not defined",
     "output_type": "error",
     "traceback": [
      "\u001b[0;31m---------------------------------------------------------------------------\u001b[0m",
      "\u001b[0;31mNameError\u001b[0m                                 Traceback (most recent call last)",
      "Cell \u001b[0;32mIn[1], line 1\u001b[0m\n\u001b[0;32m----> 1\u001b[0m cv2\u001b[39m.\u001b[39mimshow(\u001b[39m'\u001b[39m\u001b[39mInput Image\u001b[39m\u001b[39m'\u001b[39m, normalized_img)\n\u001b[1;32m      2\u001b[0m cv2\u001b[39m.\u001b[39mwaitKey(\u001b[39m0\u001b[39m)\n\u001b[1;32m      3\u001b[0m cv2\u001b[39m.\u001b[39mdestroyAllWindows()\n",
      "\u001b[0;31mNameError\u001b[0m: name 'cv2' is not defined"
     ]
    }
   ],
   "source": [
    "cv2.imshow('Input Image', normalized_img)\n",
    "cv2.waitKey(0)\n",
    "cv2.destroyAllWindows()"
   ]
  },
  {
   "cell_type": "code",
   "execution_count": 13,
   "metadata": {},
   "outputs": [
    {
     "name": "stdout",
     "output_type": "stream",
     "text": [
      "cardboard\n"
     ]
    }
   ],
   "source": [
    "print(predicted_label)"
   ]
  },
  {
   "cell_type": "code",
   "execution_count": 12,
   "metadata": {},
   "outputs": [
    {
     "name": "stdout",
     "output_type": "stream",
     "text": [
      "cardboard\n"
     ]
    }
   ],
   "source": [
    "labels = ['cardboard', 'glass', 'metal', 'paper', 'cardboard', 'trash']\n",
    "\n",
    "# Convert probabilities to labels\n",
    "# predicted_label_index = np.argmax(prediction)\n",
    "# predicted_label = labels[predicted_label_inde]\n",
    "predicted_label = labels[np.argmax(prediction)]\n",
    "\n",
    "print(predicted_label)"
   ]
  },
  {
   "cell_type": "code",
   "execution_count": null,
   "metadata": {},
   "outputs": [],
   "source": [
    "cap = cv2.VideoCapture(3)\n",
    "while True:\n",
    "    ret, frame = cap.read()\n",
    "\n",
    "    output = model(frame)\n",
    "\n",
    "    cv2.imshow('Live Prediction', frame)\n",
    "\n",
    "    if cv2.waitKey(1) & 0xFF == ord('q'):\n",
    "        break\n",
    "cap.release()\n",
    "cv2.destroyAllWindows()\n"
   ]
  }
 ],
 "metadata": {
  "kernelspec": {
   "display_name": "Python 3",
   "language": "python",
   "name": "python3"
  },
  "language_info": {
   "codemirror_mode": {
    "name": "ipython",
    "version": 3
   },
   "file_extension": ".py",
   "mimetype": "text/x-python",
   "name": "python",
   "nbconvert_exporter": "python",
   "pygments_lexer": "ipython3",
   "version": "3.11.3"
  },
  "orig_nbformat": 4
 },
 "nbformat": 4,
 "nbformat_minor": 2
}
