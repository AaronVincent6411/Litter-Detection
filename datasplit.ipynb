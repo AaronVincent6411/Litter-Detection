{
 "cells": [
  {
   "cell_type": "code",
   "execution_count": 6,
   "metadata": {},
   "outputs": [],
   "source": [
    "#importing necessary packages:\n",
    "import os,shutil"
   ]
  },
  {
   "cell_type": "code",
   "execution_count": 12,
   "metadata": {},
   "outputs": [],
   "source": [
    "#importing dataset for windows:\n",
    "original_folder= r'C:\\Users\\benjo\\OneDrive\\Documents\\MIniproject_23\\Litter-Detection\\dataset\\Garbage'\n",
    "train_folder =  r'C:\\Users\\benjo\\OneDrive\\Documents\\MIniproject_23\\Litter-Detection\\dataset\\train'\n",
    "test_folder = r'C:\\Users\\benjo\\OneDrive\\Documents\\MIniproject_23\\Litter-Detection\\dataset\\test'"
   ]
  },
  {
   "cell_type": "code",
   "execution_count": 21,
   "metadata": {},
   "outputs": [],
   "source": [
    "#For linux\n",
    "original_folder=\"dataset/Garbage\"\n",
    "train_folder = 'dataset/train'\n",
    "test_folder = 'dataset/test'"
   ]
  },
  {
   "cell_type": "code",
   "execution_count": 13,
   "metadata": {},
   "outputs": [],
   "source": [
    "# os.mkdir(train_folder)\n",
    "os.mkdir(test_folder)"
   ]
  },
  {
   "attachments": {},
   "cell_type": "markdown",
   "metadata": {},
   "source": [
    "We are splitting the data into train and test folder. We have taken 80:20 for the model. ie 80% for taining the data and 20% for testing the data\n",
    "\n",
    "- We have 403 cardboard images and we have taken 363 images for train dataset and 40 for testing. \n",
    "- We have 501 glass images and we have taken 451 images for train dataset and 50 for testing.\n",
    "- We have 410 metal images and we have taken 369 images for train dataset and 41 for testing.\n",
    "- We have 137 trash images and we have taken 124 images for train dataset and 13 for testing."
   ]
  },
  {
   "cell_type": "code",
   "execution_count": 27,
   "metadata": {},
   "outputs": [],
   "source": [
    "filenames = [f'cardboard{i}.jpg' for i in range(1,364)]\n",
    "for filename in filenames:\n",
    "    src_path = os.path.join(original_folder,filename)\n",
    "    dst_path = os.path.join(train_folder,filename)\n",
    "    shutil.copy(src_path,dst_path)"
   ]
  },
  {
   "cell_type": "code",
   "execution_count": 28,
   "metadata": {},
   "outputs": [],
   "source": [
    "filenames = [f'glass{i}.jpg' for i in range(1,452)]\n",
    "for filename in filenames:\n",
    "    src_path = os.path.join(original_folder,filename)\n",
    "    dst_path = os.path.join(train_folder,filename)\n",
    "    shutil.copy(src_path,dst_path)"
   ]
  },
  {
   "cell_type": "code",
   "execution_count": 31,
   "metadata": {},
   "outputs": [],
   "source": [
    "filenames = [f'metal{i}.jpg' for i in range(1,370)]\n",
    "for filename in filenames:\n",
    "    src_path = os.path.join(original_folder,filename)\n",
    "    dst_path = os.path.join(train_folder,filename)\n",
    "    shutil.copy(src_path,dst_path)"
   ]
  },
  {
   "cell_type": "code",
   "execution_count": 32,
   "metadata": {},
   "outputs": [],
   "source": [
    "filenames = [f'trash{i}.jpg' for i in range(1,125)]\n",
    "for filename in filenames:\n",
    "    src_path = os.path.join(original_folder,filename)\n",
    "    dst_path = os.path.join(train_folder,filename)\n",
    "    shutil.copy(src_path,dst_path)"
   ]
  },
  {
   "attachments": {},
   "cell_type": "markdown",
   "metadata": {},
   "source": [
    "Date is splited into test set"
   ]
  },
  {
   "cell_type": "code",
   "execution_count": 17,
   "metadata": {},
   "outputs": [],
   "source": [
    "filenames = [f'cardboard{i}.jpg' for i in range(364,404)]\n",
    "for filename in filenames:\n",
    "    src_path = os.path.join(original_folder,filename)\n",
    "    dst_path = os.path.join(test_folder,filename)\n",
    "    shutil.copy(src_path,dst_path)"
   ]
  },
  {
   "cell_type": "code",
   "execution_count": 18,
   "metadata": {},
   "outputs": [],
   "source": [
    "filenames = [f'glass{i}.jpg' for i in range(452,502)]\n",
    "for filename in filenames:\n",
    "    src_path = os.path.join(original_folder,filename)\n",
    "    dst_path = os.path.join(test_folder,filename)\n",
    "    shutil.copy(src_path,dst_path)"
   ]
  },
  {
   "cell_type": "code",
   "execution_count": 19,
   "metadata": {},
   "outputs": [],
   "source": [
    "filenames = [f'metal{i}.jpg' for i in range(370,411)]\n",
    "for filename in filenames:\n",
    "    src_path = os.path.join(original_folder,filename)\n",
    "    dst_path = os.path.join(test_folder,filename)\n",
    "    shutil.copy(src_path,dst_path)"
   ]
  },
  {
   "cell_type": "code",
   "execution_count": 20,
   "metadata": {},
   "outputs": [],
   "source": [
    "filenames = [f'trash{i}.jpg' for i in range(125,138)]\n",
    "for filename in filenames:\n",
    "    src_path = os.path.join(original_folder,filename)\n",
    "    dst_path = os.path.join(test_folder,filename)\n",
    "    shutil.copy(src_path,dst_path)"
   ]
  }
 ],
 "metadata": {
  "kernelspec": {
   "display_name": "Python 3 (ipykernel)",
   "language": "python",
   "name": "python3"
  },
  "language_info": {
   "codemirror_mode": {
    "name": "ipython",
    "version": 3
   },
   "file_extension": ".py",
   "mimetype": "text/x-python",
   "name": "python",
   "nbconvert_exporter": "python",
   "pygments_lexer": "ipython3",
   "version": "3.11.2"
  },
  "orig_nbformat": 4,
  "vscode": {
   "interpreter": {
    "hash": "38c87f65dcc7f08bff34d09e39be733494dd035cffb5ac0d787d41a2095d749b"
   }
  }
 },
 "nbformat": 4,
 "nbformat_minor": 2
}
