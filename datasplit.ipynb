{
 "cells": [
  {
   "cell_type": "code",
   "execution_count": 18,
   "metadata": {},
   "outputs": [],
   "source": [
    "#importing necessary packages:\n",
    "import os,shutil\n",
    "import random"
   ]
  },
  {
   "cell_type": "code",
   "execution_count": 12,
   "metadata": {},
   "outputs": [],
   "source": [
    "#importing dataset for windows:\n",
    "original_folder= r'C:\\Users\\benjo\\OneDrive\\Documents\\MIniproject_23\\Litter-Detection\\dataset\\Garbage'\n",
    "train_folder =  r'C:\\Users\\benjo\\OneDrive\\Documents\\MIniproject_23\\Litter-Detection\\dataset\\train'\n",
    "test_folder = r'C:\\Users\\benjo\\OneDrive\\Documents\\MIniproject_23\\Litter-Detection\\dataset\\test'"
   ]
  },
  {
   "cell_type": "code",
   "execution_count": 25,
   "metadata": {},
   "outputs": [],
   "source": [
    "#For linux\n",
    "train_folder = 'dataset/train'\n",
    "test_folder = 'dataset/test'"
   ]
  },
  {
   "cell_type": "code",
   "execution_count": 26,
   "metadata": {},
   "outputs": [],
   "source": [
    "os.mkdir(train_folder)\n",
    "os.mkdir(test_folder)"
   ]
  },
  {
   "cell_type": "code",
   "execution_count": 27,
   "metadata": {},
   "outputs": [],
   "source": [
    "labels = ['cardboard', 'metal', 'glass', 'trash']"
   ]
  },
  {
   "cell_type": "code",
   "execution_count": 41,
   "metadata": {},
   "outputs": [],
   "source": [
    "for label in labels:\n",
    "    os.makedirs(f'dataset/train/{label}', exist_ok=True)\n",
    "    os.makedirs(f'dataset/test/{label}', exist_ok=True)"
   ]
  },
  {
   "cell_type": "code",
   "execution_count": 42,
   "metadata": {},
   "outputs": [
    {
     "name": "stdout",
     "output_type": "stream",
     "text": [
      "cardboard= 402\n",
      "metal= 409\n",
      "glass= 500\n",
      "trash= 136\n"
     ]
    }
   ],
   "source": [
    "for label in labels:\n",
    "    print(f'{label}=', len(os.listdir(f'dataset/Garbage/{label}'))-1)"
   ]
  },
  {
   "attachments": {},
   "cell_type": "markdown",
   "metadata": {},
   "source": [
    "We are splitting the data into train and test folder. We have taken 80:20 for the model. ie 80% for taining the data and 20% for testing the data\n",
    "\n",
    "- We have 403 cardboard images and we have taken 363 images for train dataset and 40 for testing. \n",
    "- We have 501 glass images and we have taken 451 images for train dataset and 50 for testing.\n",
    "- We have 410 metal images and we have taken 369 images for train dataset and 41 for testing.\n",
    "- We have 137 trash images and we have taken 124 images for train dataset and 13 for testing."
   ]
  },
  {
   "cell_type": "code",
   "execution_count": 30,
   "metadata": {},
   "outputs": [],
   "source": [
    "cardboard_train_file = random.sample([f'cardboard{i}.jpg' for i in range(1, 403)], k=364)\n",
    "for filename in cardboard_train_file:\n",
    "    src_path = os.path.join('dataset/Garbage/cardboard', filename)\n",
    "    dst_path = os.path.join('dataset/train/cardboard', filename)\n",
    "    shutil.copy(src_path, dst_path)"
   ]
  },
  {
   "cell_type": "code",
   "execution_count": 31,
   "metadata": {},
   "outputs": [],
   "source": [
    "glass_train_file = random.sample([f'glass{i}.jpg' for i in range(1, 501)], k=451)\n",
    "for filename in glass_train_file:\n",
    "    src_path = os.path.join('dataset/Garbage/glass', filename)\n",
    "    dst_path = os.path.join('dataset/train/glass', filename)\n",
    "    shutil.copy(src_path, dst_path)"
   ]
  },
  {
   "cell_type": "code",
   "execution_count": 32,
   "metadata": {},
   "outputs": [],
   "source": [
    "metal_train_file = random.sample([f'metal{i}.jpg' for i in range(1, 411)], k=369)\n",
    "for filename in metal_train_file:\n",
    "    src_path = os.path.join('dataset/Garbage/metal', filename)\n",
    "    dst_path = os.path.join('dataset/train/metal', filename)\n",
    "    shutil.copy(src_path, dst_path)"
   ]
  },
  {
   "cell_type": "code",
   "execution_count": 39,
   "metadata": {},
   "outputs": [],
   "source": [
    "trash_train_file = random.sample([f'trash{i}.jpg' for i in range(1, 137)], k=124)\n",
    "for filename in trash_train_file:\n",
    "    src_path = os.path.join('dataset/Garbage/trash', filename)\n",
    "    dst_path = os.path.join('dataset/train/trash', filename)\n",
    "    shutil.copy(src_path, dst_path)"
   ]
  },
  {
   "attachments": {},
   "cell_type": "markdown",
   "metadata": {},
   "source": [
    "Date is splited into test set"
   ]
  },
  {
   "cell_type": "code",
   "execution_count": 34,
   "metadata": {},
   "outputs": [],
   "source": [
    "cardboard_test_file = [f'cardboard{i}.jpg' for i in range(1, 403) if f'cardboard{i}.jpg' not in cardboard_train_file]\n",
    "for filename in cardboard_test_file:\n",
    "    src_path = os.path.join('dataset/Garbage/cardboard', filename)\n",
    "    dst_path = os.path.join('dataset/test/cardboard', filename)\n",
    "    shutil.copy(src_path, dst_path)\n"
   ]
  },
  {
   "cell_type": "code",
   "execution_count": 37,
   "metadata": {},
   "outputs": [],
   "source": [
    "glass_test_file = [f'glass{i}.jpg' for i in range(1, 501) if f'glass{i}.jpg' not in glass_train_file]\n",
    "for filename in glass_test_file:\n",
    "    src_path = os.path.join('dataset/Garbage/glass', filename)\n",
    "    dst_path = os.path.join('dataset/test/glass', filename)\n",
    "    shutil.copy(src_path, dst_path)\n"
   ]
  },
  {
   "cell_type": "code",
   "execution_count": 38,
   "metadata": {},
   "outputs": [],
   "source": [
    "metal_test_file = [f'metal{i}.jpg' for i in range(1, 410) if f'metal{i}.jpg' not in metal_train_file]\n",
    "for filename in metal_test_file:\n",
    "    src_path = os.path.join('dataset/Garbage/metal', filename)\n",
    "    dst_path = os.path.join('dataset/test/metal', filename)\n",
    "    shutil.copy(src_path, dst_path)\n"
   ]
  },
  {
   "cell_type": "code",
   "execution_count": 40,
   "metadata": {},
   "outputs": [],
   "source": [
    "trash_test_file = [f'trash{i}.jpg' for i in range(1, 137) if f'trash{i}.jpg' not in trash_train_file]\n",
    "for filename in trash_test_file:\n",
    "    src_path = os.path.join('dataset/Garbage/trash', filename)\n",
    "    dst_path = os.path.join('dataset/test/trash', filename)\n",
    "    shutil.copy(src_path, dst_path)\n"
   ]
  }
 ],
 "metadata": {
  "kernelspec": {
   "display_name": "Python 3 (ipykernel)",
   "language": "python",
   "name": "python3"
  },
  "language_info": {
   "codemirror_mode": {
    "name": "ipython",
    "version": 3
   },
   "file_extension": ".py",
   "mimetype": "text/x-python",
   "name": "python",
   "nbconvert_exporter": "python",
   "pygments_lexer": "ipython3",
   "version": "3.11.3"
  },
  "orig_nbformat": 4,
  "vscode": {
   "interpreter": {
    "hash": "38c87f65dcc7f08bff34d09e39be733494dd035cffb5ac0d787d41a2095d749b"
   }
  }
 },
 "nbformat": 4,
 "nbformat_minor": 2
}
