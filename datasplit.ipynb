{
 "cells": [
  {
   "cell_type": "code",
   "execution_count": 6,
   "metadata": {},
   "outputs": [],
   "source": [
    "#importing necessary packages:\n",
    "import os,shutil"
   ]
  },
  {
   "cell_type": "code",
   "execution_count": 7,
   "metadata": {},
   "outputs": [
    {
     "ename": "SyntaxError",
     "evalue": "(unicode error) 'unicodeescape' codec can't decode bytes in position 2-3: truncated \\UXXXXXXXX escape (3584442937.py, line 2)",
     "output_type": "error",
     "traceback": [
      "\u001b[1;36m  Cell \u001b[1;32mIn[7], line 2\u001b[1;36m\u001b[0m\n\u001b[1;33m    original_folder=\"C:\\Users\\benjo\\OneDrive\\Documents\\MIniproject_23\\Litter-Detection\\Dataset\\original\"\u001b[0m\n\u001b[1;37m                                                                                                        ^\u001b[0m\n\u001b[1;31mSyntaxError\u001b[0m\u001b[1;31m:\u001b[0m (unicode error) 'unicodeescape' codec can't decode bytes in position 2-3: truncated \\UXXXXXXXX escape\n"
     ]
    }
   ],
   "source": [
    "#importing dataset:\n",
    "original_folder=\"C:\\Users\\benjo\\OneDrive\\Documents\\MIniproject_23\\Litter-Detection\\dataset\\Original\"\n",
    "train_folder=\"C:\\Users\\benjo\\OneDrive\\Documents\\MIniproject_23\\Litter-Detection\\dataset\\train\"\n",
    "test_folder=\"C:\\Users\\benjo\\OneDrive\\Documents\\MIniproject_23\\Litter-Detection\\dataset\\test\"\n"
   ]
  },
  {
   "cell_type": "code",
   "execution_count": null,
   "metadata": {},
   "outputs": [],
   "source": []
  }
 ],
 "metadata": {
  "kernelspec": {
   "display_name": "Python 3",
   "language": "python",
   "name": "python3"
  },
  "language_info": {
   "codemirror_mode": {
    "name": "ipython",
    "version": 3
   },
   "file_extension": ".py",
   "mimetype": "text/x-python",
   "name": "python",
   "nbconvert_exporter": "python",
   "pygments_lexer": "ipython3",
   "version": "3.11.2"
  },
  "orig_nbformat": 4,
  "vscode": {
   "interpreter": {
    "hash": "38c87f65dcc7f08bff34d09e39be733494dd035cffb5ac0d787d41a2095d749b"
   }
  }
 },
 "nbformat": 4,
 "nbformat_minor": 2
}
